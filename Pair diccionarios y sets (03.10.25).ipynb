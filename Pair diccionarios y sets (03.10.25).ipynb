{
 "cells": [
  {
   "cell_type": "markdown",
   "id": "9fd6b98e",
   "metadata": {},
   "source": [
    "Ejercicios diccionarios"
   ]
  },
  {
   "cell_type": "markdown",
   "id": "25c3b12a",
   "metadata": {},
   "source": [
    "1. Crear un diccionario vacío\n",
    "Descripción: Crea un diccionario vacío sin ningún par clave-valor."
   ]
  },
  {
   "cell_type": "code",
   "execution_count": 2,
   "id": "fe5638cd",
   "metadata": {},
   "outputs": [],
   "source": [
    "diccionario = {}"
   ]
  },
  {
   "cell_type": "markdown",
   "id": "73c79b9f",
   "metadata": {},
   "source": [
    "2. Crear un diccionario con elementos\n",
    "Descripción: Crea un diccionario con pares clave-valor predefinidos. Definir el diccionario con las claves y valores que querais. NOTA El diccionario debe tener al menos 5 pares de clave:valor."
   ]
  },
  {
   "cell_type": "code",
   "execution_count": 3,
   "id": "76c97624",
   "metadata": {},
   "outputs": [
    {
     "data": {
      "text/plain": [
       "{'nombre': 'Mayka',\n",
       " 'apellido': 'Duran',\n",
       " 'edad': 38,\n",
       " 'ciudad': 'Malaga',\n",
       " 'pais': 'Espana'}"
      ]
     },
     "execution_count": 3,
     "metadata": {},
     "output_type": "execute_result"
    }
   ],
   "source": [
    "diccionario_alumnas = {\"nombre\" : \"Mayka\", \"apellido\" : \"Duran\", \"edad\" : 38, \"ciudad\" : \"Malaga\", \"pais\" : \"Espana\"}\n",
    "diccionario_alumnas"
   ]
  },
  {
   "cell_type": "markdown",
   "id": "87a60771",
   "metadata": {},
   "source": [
    "3. Acceder al valor de una clave en un diccionario\n",
    "\n",
    "Descripción: Usando el diccionario creado en el paso anterior, obtén el valor correspondiente a una clave específica que indique el usuario (debereis usar la función input() para preguntar al usuario)."
   ]
  },
  {
   "cell_type": "code",
   "execution_count": 11,
   "id": "00286d3c",
   "metadata": {},
   "outputs": [
    {
     "data": {
      "text/plain": [
       "'38'"
      ]
     },
     "execution_count": 11,
     "metadata": {},
     "output_type": "execute_result"
    }
   ],
   "source": [
    "input(diccionario_alumnas[\"edad\"])"
   ]
  },
  {
   "cell_type": "markdown",
   "id": "cb8a0db1",
   "metadata": {},
   "source": [
    "4.Agregar un nuevo par clave-valor a un diccionario\n",
    "\n",
    "Descripción: Usando el diccionario creado en el ejercicio 2, agrega un nuevo par clave-valor."
   ]
  },
  {
   "cell_type": "code",
   "execution_count": null,
   "id": "b8914c71",
   "metadata": {},
   "outputs": [
    {
     "ename": "SyntaxError",
     "evalue": "invalid syntax (2203027196.py, line 1)",
     "output_type": "error",
     "traceback": [
      "  \u001b[36mCell\u001b[39m\u001b[36m \u001b[39m\u001b[32mIn[14]\u001b[39m\u001b[32m, line 1\u001b[39m\n\u001b[31m    \u001b[39m\u001b[31mnuevo elemento = {\"sexo\": \"F\"}\u001b[39m\n          ^\n\u001b[31mSyntaxError\u001b[39m\u001b[31m:\u001b[39m invalid syntax\n"
     ]
    }
   ],
   "source": [
    "nuevo_elemento = {\"sexo\": \"F\"}\n",
    "diccionario_alumnas.update(nuevo_elemento)"
   ]
  },
  {
   "cell_type": "code",
   "execution_count": null,
   "id": "0bd851d1",
   "metadata": {},
   "outputs": [],
   "source": []
  }
 ],
 "metadata": {
  "kernelspec": {
   "display_name": "Python 3",
   "language": "python",
   "name": "python3"
  },
  "language_info": {
   "codemirror_mode": {
    "name": "ipython",
    "version": 3
   },
   "file_extension": ".py",
   "mimetype": "text/x-python",
   "name": "python",
   "nbconvert_exporter": "python",
   "pygments_lexer": "ipython3",
   "version": "3.13.3"
  }
 },
 "nbformat": 4,
 "nbformat_minor": 5
}
